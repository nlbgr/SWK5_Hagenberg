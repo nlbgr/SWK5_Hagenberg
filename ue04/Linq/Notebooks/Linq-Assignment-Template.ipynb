{
 "cells": [
  {
   "cell_type": "markdown",
   "metadata": {},
   "source": [
    "Aufgaben zu LINQ\n",
    "================"
   ]
  },
  {
   "cell_type": "markdown",
   "metadata": {},
   "source": [
    "Gegeben sei folgende Listen von Studierenden. Führen Sie auf diesem Datenbestand\n",
    "die nachfolgend angeführten LINQ-Abfragen durch."
   ]
  },
  {
   "cell_type": "code",
   "execution_count": 1,
   "metadata": {
    "dotnet_interactive": {
     "language": "csharp"
    },
    "vscode": {
     "languageId": "polyglot-notebook"
    }
   },
   "outputs": [],
   "source": [
    "record Student (string MatNr, string Name, string Subject, int[] Grades);\n",
    "\n",
    "IEnumerable<Student> students = new List<Student> {\n",
    "  new (\"s12345\", \"Huber\",   \"Se\", new [] { 2, 3, 2, 1, 3 }),\n",
    "  new (\"s12388\", \"Mayr\",    \"MC\", new [] { 1, 2, 3, 2, 1 }),\n",
    "  new (\"s12321\", \"Bauer\",   \"se\", new [] { 3, 5, 5, 2, 3 }),\n",
    "  new (\"s12353\", \"Schmidt\", \"SE\", new [] { 2, 4, 3, 2, 1 }),\n",
    "};"
   ]
  },
  {
   "cell_type": "markdown",
   "metadata": {},
   "source": [
    "## Aufgabe 1\n",
    "Erstellen Sie eine Liste aller Studierenden des Studiengangs `SE`\n",
    "(Groß/Kleinschreibung ist irrelevant), welche als Elemente die Matrikelnummern und die Namen\n",
    "der Studierenden, nicht aber deren Noten enthält. Verwenden Sie dazu\n",
    "LINQ-Syntax. Geben Sie diese Liste anschließend aus."
   ]
  },
  {
   "cell_type": "code",
   "execution_count": 2,
   "metadata": {
    "dotnet_interactive": {
     "language": "csharp"
    },
    "vscode": {
     "languageId": "polyglot-notebook"
    }
   },
   "outputs": [
    {
     "name": "stdout",
     "output_type": "stream",
     "text": [
      "{ MatNr = s12345, Name = Huber }\n",
      "{ MatNr = s12321, Name = Bauer }\n",
      "{ MatNr = s12353, Name = Schmidt }\n"
     ]
    }
   ],
   "source": [
    "var studentsOfSe = \n",
    "    from s in students \n",
    "    where s.Subject.Equals(\"se\", StringComparison.InvariantCultureIgnoreCase) \n",
    "    select new {\n",
    "        MatNr = s.MatNr, \n",
    "        Name = s.Name\n",
    "    };\n",
    "    \n",
    "foreach (var student in studentsOfSe) {\n",
    "    Console.WriteLine(student);\n",
    "}"
   ]
  },
  {
   "cell_type": "markdown",
   "metadata": {},
   "source": [
    "## Aufgabe 2\n",
    "Implementieren Sie die LINQ-Abfrage aus Beispiel 1 unter ausschließlicher Verwendung von Erweiterungsmethoden."
   ]
  },
  {
   "cell_type": "code",
   "execution_count": 3,
   "metadata": {
    "dotnet_interactive": {
     "language": "csharp"
    },
    "vscode": {
     "languageId": "polyglot-notebook"
    }
   },
   "outputs": [
    {
     "name": "stdout",
     "output_type": "stream",
     "text": [
      "{ MatNr = s12345, Name = Huber }\n",
      "{ MatNr = s12321, Name = Bauer }\n",
      "{ MatNr = s12353, Name = Schmidt }\n"
     ]
    }
   ],
   "source": [
    "var studentsOfSe = students\n",
    "                    .Where(s => s.Subject.Equals(\"se\", StringComparison.InvariantCultureIgnoreCase))\n",
    "                    .Select(s => new {MatNr = s.MatNr, Name = s.Name});\n",
    "                    \n",
    "foreach (var student in studentsOfSe) {\n",
    "    Console.WriteLine(student);\n",
    "}"
   ]
  },
  {
   "cell_type": "markdown",
   "metadata": {},
   "source": [
    "## Aufgabe 3\n",
    "Ermitteln Sie alle Studierende, welche jede LVA mit mindestens \"Befriedigend\"\n",
    "abgeschlossen haben. *Hinweis:* Verwenden Sie die Erweiterungsmethode `bool All<T> (this IEnumerable<T> source, Func<T,bool> predicate)`."
   ]
  },
  {
   "cell_type": "code",
   "execution_count": 4,
   "metadata": {
    "dotnet_interactive": {
     "language": "csharp"
    },
    "vscode": {
     "languageId": "polyglot-notebook"
    }
   },
   "outputs": [
    {
     "name": "stdout",
     "output_type": "stream",
     "text": [
      "Student { MatNr = s12345, Name = Huber, Subject = Se, Grades = System.Int32[] }\n",
      "Student { MatNr = s12388, Name = Mayr, Subject = MC, Grades = System.Int32[] }\n"
     ]
    }
   ],
   "source": [
    "var studentsBetterThanThree = students\n",
    "                                .Where(s => s.Grades.All(g => g.CompareTo(3) <= 0));\n",
    "                                \n",
    "foreach (var student in studentsBetterThanThree) {\n",
    "    Console.WriteLine(student);\n",
    "}"
   ]
  },
  {
   "cell_type": "markdown",
   "metadata": {},
   "source": [
    "## Aufgabe 4\n",
    "Erstellen Sie eine Liste mit den Namen und den Durchschnittsnoten aller\n",
    "Studierenden. Die Liste soll aufsteigend nach der Durchschnittsnote sortiert sein."
   ]
  },
  {
   "cell_type": "code",
   "execution_count": 5,
   "metadata": {
    "dotnet_interactive": {
     "language": "csharp"
    },
    "vscode": {
     "languageId": "polyglot-notebook"
    }
   },
   "outputs": [
    {
     "name": "stdout",
     "output_type": "stream",
     "text": [
      "Mayr: 1.8\n",
      "Huber: 2.2\n",
      "Schmidt: 2.4\n",
      "Bauer: 3.6\n"
     ]
    }
   ],
   "source": [
    "var averageGrades = students\n",
    "                        .Select(s => new {Name = s.Name, AverageGrade = s.Grades.Average()})\n",
    "                        .OrderBy(s => s.AverageGrade);\n",
    "foreach (var student in averageGrades) {\n",
    "    Console.WriteLine($\"{student.Name}: {student.AverageGrade}\");\n",
    "}\n",
    "\n",
    "// alternativ laut Lehrer:\n",
    "var averageGradesv2 = \n",
    "    from s in students\n",
    "    let avg = s.Grades.Average()\n",
    "    orderby avg\n",
    "    select new {\n",
    "        Name = s.Name,\n",
    "        averageGrade = avg\n",
    "    };"
   ]
  },
  {
   "cell_type": "markdown",
   "metadata": {},
   "source": [
    "## Aufgabe 5\n",
    "Ermitteln Sie für den Studierenden mit der Matrikelnummer `s12321` ein\n",
    "Notenliste, in welcher die Noten in der Langform (\"Sehr gut\", \"Gut\", ...)\n",
    "angegeben werden. Übernehmen Sie die Note aus dem Feld `gradeStrings`."
   ]
  },
  {
   "cell_type": "code",
   "execution_count": 6,
   "metadata": {
    "dotnet_interactive": {
     "language": "csharp"
    },
    "vscode": {
     "languageId": "polyglot-notebook"
    }
   },
   "outputs": [
    {
     "name": "stdout",
     "output_type": "stream",
     "text": [
      "Befriedigend\n",
      "Nicht genügend\n",
      "Nicht genügend\n",
      "Gut\n",
      "Befriedigend\n"
     ]
    }
   ],
   "source": [
    "var gradeStrings = new [] { \"Sehr gut\", \"Gut\", \"Befriedigend\", \"Genügend\", \"Nicht genügend\" };\n",
    "\n",
    "var studentGrades = students\n",
    "                        .FirstOrDefault(s => s.MatNr.Equals(\"s12321\"))?\n",
    "                        .Grades?\n",
    "                        .Select(g => gradeStrings[g-1]);\n",
    "\n",
    "foreach (var g in studentGrades) {\n",
    "    Console.WriteLine(g);\n",
    "}"
   ]
  }
 ],
 "metadata": {
  "kernelspec": {
   "display_name": ".NET (C#)",
   "language": "C#",
   "name": ".net-csharp"
  },
  "language_info": {
   "name": "C#"
  },
  "polyglot_notebook": {
   "kernelInfo": {
    "defaultKernelName": "csharp",
    "items": [
     {
      "aliases": [],
      "name": "csharp"
     }
    ]
   }
  }
 },
 "nbformat": 4,
 "nbformat_minor": 2
}
