{
 "cells": [
  {
   "cell_type": "markdown",
   "metadata": {},
   "source": [
    "Aufgaben zu async/await\n",
    "======================="
   ]
  },
  {
   "cell_type": "markdown",
   "metadata": {},
   "source": [
    "Analysieren Sie die nachfolgend angegebenen Methoden. Lösen Sie auf Basis dieser\n",
    "Methoden untenstehende Aufgaben."
   ]
  },
  {
   "cell_type": "code",
   "execution_count": 1,
   "metadata": {
    "dotnet_interactive": {
     "language": "csharp"
    },
    "vscode": {
     "languageId": "polyglot-notebook"
    }
   },
   "outputs": [],
   "source": [
    "async static Task<IEnumerable<T>> FilterAsync<T>(this IEnumerable<T> items, Func<T, bool> predicate) \n",
    "{\n",
    "  var result = new List<T>();\n",
    "  foreach (var item in items)\n",
    "  {\n",
    "    await Task.Delay(100);\n",
    "    if (predicate(item))\n",
    "    {\n",
    "      result.Add(item);\n",
    "    }\n",
    "  }\n",
    "  return result;\n",
    "}\n",
    "\n",
    "static bool IsPrime(int n) => n>=2 && !Enumerable.Range(2, (int)Math.Sqrt(n+1)-1).Any(i => n%i==0);"
   ]
  },
  {
   "cell_type": "markdown",
   "metadata": {},
   "source": [
    "## Aufgabe 1\n",
    "Ermitteln Sie alle Primzahlen im Bereich von 1 bis 20."
   ]
  },
  {
   "cell_type": "code",
   "execution_count": 7,
   "metadata": {
    "dotnet_interactive": {
     "language": "csharp"
    },
    "vscode": {
     "languageId": "polyglot-notebook"
    }
   },
   "outputs": [
    {
     "name": "stdout",
     "output_type": "stream",
     "text": [
      "2\n",
      "3\n",
      "5\n",
      "7\n",
      "11\n",
      "13\n",
      "17\n",
      "19\n"
     ]
    }
   ],
   "source": [
    "var primes = await Enumerable.Range(1, 20).FilterAsync(n => IsPrime(n));\n",
    "foreach (var n in primes) {\n",
    "    Console.WriteLine(n);\n",
    "}"
   ]
  },
  {
   "cell_type": "markdown",
   "metadata": {},
   "source": [
    "## Aufgabe 2\n",
    "Ermitteln Sie alle Primzahlen im Interval [1,20], indem Sie die\n",
    "Primzahlenbestimmung *parallel* auf den Intervallen [1,10] und [11,20]\n",
    "durchführen und anschließend die Teilergebnisse zusammenfügen\n",
    "(`IEnumerable.Concat`). Vergleich Sie die Laufzeit dieser Variante mit jeder aus\n",
    "Aufgabe 1."
   ]
  },
  {
   "cell_type": "code",
   "execution_count": 13,
   "metadata": {
    "dotnet_interactive": {
     "language": "csharp"
    },
    "vscode": {
     "languageId": "polyglot-notebook"
    }
   },
   "outputs": [
    {
     "name": "stdout",
     "output_type": "stream",
     "text": [
      "2\n",
      "3\n",
      "5\n",
      "7\n",
      "11\n",
      "13\n",
      "17\n",
      "19\n"
     ]
    }
   ],
   "source": [
    "var primesLeft = Enumerable.Range(1, 10);\n",
    "var primesRight = Enumerable.Range(11, 10);\n",
    "\n",
    "var primes1Task = primesLeft.FilterAsync(n => IsPrime(n));\n",
    "var primes2Task = primesRight.FilterAsync(n => IsPrime(n));\n",
    "\n",
    "var primes1 = await primes1Task;\n",
    "var primes2 = await primes2Task;\n",
    "\n",
    "foreach (var n in primes1.Concat(primes2)) {\n",
    "    Console.WriteLine(n);\n",
    "}"
   ]
  }
 ],
 "metadata": {
  "kernelspec": {
   "display_name": ".NET (C#)",
   "language": "C#",
   "name": ".net-csharp"
  },
  "language_info": {
   "name": "C#"
  },
  "polyglot_notebook": {
   "kernelInfo": {
    "defaultKernelName": "csharp",
    "items": [
     {
      "aliases": [],
      "name": "csharp"
     }
    ]
   }
  }
 },
 "nbformat": 4,
 "nbformat_minor": 2
}
